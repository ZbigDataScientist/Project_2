{
 "cells": [
  {
   "cell_type": "markdown",
   "metadata": {},
   "source": [
    "## Sample analysis of ecommerce CRM"
   ]
  },
  {
   "cell_type": "code",
   "execution_count": 1,
   "metadata": {},
   "outputs": [],
   "source": [
    "import pandas as pd\n",
    "import numpy as np"
   ]
  },
  {
   "cell_type": "code",
   "execution_count": 2,
   "metadata": {},
   "outputs": [],
   "source": [
    "#Database had two tables with sales and returns data\n",
    "Sales = pd.read_csv('Sales.csv')\n",
    "Returns = pd.read_csv('Returns.csv')"
   ]
  },
  {
   "cell_type": "code",
   "execution_count": 3,
   "metadata": {},
   "outputs": [
    {
     "data": {
      "text/html": [
       "<div>\n",
       "<style scoped>\n",
       "    .dataframe tbody tr th:only-of-type {\n",
       "        vertical-align: middle;\n",
       "    }\n",
       "\n",
       "    .dataframe tbody tr th {\n",
       "        vertical-align: top;\n",
       "    }\n",
       "\n",
       "    .dataframe thead th {\n",
       "        text-align: right;\n",
       "    }\n",
       "</style>\n",
       "<table border=\"1\" class=\"dataframe\">\n",
       "  <thead>\n",
       "    <tr style=\"text-align: right;\">\n",
       "      <th></th>\n",
       "      <th>Client_id</th>\n",
       "      <th>Transaction_id</th>\n",
       "      <th>Date</th>\n",
       "      <th>Products_count</th>\n",
       "      <th>SKU</th>\n",
       "      <th>Net_value</th>\n",
       "      <th>Gross_value</th>\n",
       "    </tr>\n",
       "  </thead>\n",
       "  <tbody>\n",
       "    <tr>\n",
       "      <th>0</th>\n",
       "      <td>2530298</td>\n",
       "      <td>405832</td>\n",
       "      <td>2015-01-20 09:18:22</td>\n",
       "      <td>7</td>\n",
       "      <td>7</td>\n",
       "      <td>42.76</td>\n",
       "      <td>52.59</td>\n",
       "    </tr>\n",
       "    <tr>\n",
       "      <th>1</th>\n",
       "      <td>2348582</td>\n",
       "      <td>405833</td>\n",
       "      <td>2015-01-20 09:30:26</td>\n",
       "      <td>3</td>\n",
       "      <td>3</td>\n",
       "      <td>23.26</td>\n",
       "      <td>28.61</td>\n",
       "    </tr>\n",
       "    <tr>\n",
       "      <th>2</th>\n",
       "      <td>2754973</td>\n",
       "      <td>405834</td>\n",
       "      <td>2015-01-20 09:30:39</td>\n",
       "      <td>2</td>\n",
       "      <td>2</td>\n",
       "      <td>16.99</td>\n",
       "      <td>20.90</td>\n",
       "    </tr>\n",
       "    <tr>\n",
       "      <th>3</th>\n",
       "      <td>2751501</td>\n",
       "      <td>405835</td>\n",
       "      <td>2015-01-20 09:42:47</td>\n",
       "      <td>13</td>\n",
       "      <td>8</td>\n",
       "      <td>57.02</td>\n",
       "      <td>70.13</td>\n",
       "    </tr>\n",
       "    <tr>\n",
       "      <th>4</th>\n",
       "      <td>2334605</td>\n",
       "      <td>405836</td>\n",
       "      <td>2015-01-20 09:43:56</td>\n",
       "      <td>4</td>\n",
       "      <td>4</td>\n",
       "      <td>24.87</td>\n",
       "      <td>30.59</td>\n",
       "    </tr>\n",
       "  </tbody>\n",
       "</table>\n",
       "</div>"
      ],
      "text/plain": [
       "   Client_id  Transaction_id                 Date  Products_count  SKU  \\\n",
       "0    2530298          405832  2015-01-20 09:18:22               7    7   \n",
       "1    2348582          405833  2015-01-20 09:30:26               3    3   \n",
       "2    2754973          405834  2015-01-20 09:30:39               2    2   \n",
       "3    2751501          405835  2015-01-20 09:42:47              13    8   \n",
       "4    2334605          405836  2015-01-20 09:43:56               4    4   \n",
       "\n",
       "   Net_value  Gross_value  \n",
       "0      42.76        52.59  \n",
       "1      23.26        28.61  \n",
       "2      16.99        20.90  \n",
       "3      57.02        70.13  \n",
       "4      24.87        30.59  "
      ]
     },
     "execution_count": 3,
     "metadata": {},
     "output_type": "execute_result"
    }
   ],
   "source": [
    "Sales.head()"
   ]
  },
  {
   "cell_type": "code",
   "execution_count": 4,
   "metadata": {},
   "outputs": [
    {
     "data": {
      "text/html": [
       "<div>\n",
       "<style scoped>\n",
       "    .dataframe tbody tr th:only-of-type {\n",
       "        vertical-align: middle;\n",
       "    }\n",
       "\n",
       "    .dataframe tbody tr th {\n",
       "        vertical-align: top;\n",
       "    }\n",
       "\n",
       "    .dataframe thead th {\n",
       "        text-align: right;\n",
       "    }\n",
       "</style>\n",
       "<table border=\"1\" class=\"dataframe\">\n",
       "  <thead>\n",
       "    <tr style=\"text-align: right;\">\n",
       "      <th></th>\n",
       "      <th>Transaction_id</th>\n",
       "      <th>Return_id</th>\n",
       "      <th>Returned_products_count</th>\n",
       "      <th>Returns_net_value</th>\n",
       "    </tr>\n",
       "  </thead>\n",
       "  <tbody>\n",
       "    <tr>\n",
       "      <th>0</th>\n",
       "      <td>1071769</td>\n",
       "      <td>31687</td>\n",
       "      <td>10</td>\n",
       "      <td>21.12</td>\n",
       "    </tr>\n",
       "    <tr>\n",
       "      <th>1</th>\n",
       "      <td>768981</td>\n",
       "      <td>31688</td>\n",
       "      <td>1</td>\n",
       "      <td>8.40</td>\n",
       "    </tr>\n",
       "    <tr>\n",
       "      <th>2</th>\n",
       "      <td>1099412</td>\n",
       "      <td>31689</td>\n",
       "      <td>8</td>\n",
       "      <td>22.70</td>\n",
       "    </tr>\n",
       "    <tr>\n",
       "      <th>3</th>\n",
       "      <td>576370</td>\n",
       "      <td>31690</td>\n",
       "      <td>9</td>\n",
       "      <td>46.28</td>\n",
       "    </tr>\n",
       "    <tr>\n",
       "      <th>4</th>\n",
       "      <td>1048352</td>\n",
       "      <td>31691</td>\n",
       "      <td>1</td>\n",
       "      <td>17.90</td>\n",
       "    </tr>\n",
       "  </tbody>\n",
       "</table>\n",
       "</div>"
      ],
      "text/plain": [
       "   Transaction_id  Return_id  Returned_products_count  Returns_net_value\n",
       "0         1071769      31687                       10              21.12\n",
       "1          768981      31688                        1               8.40\n",
       "2         1099412      31689                        8              22.70\n",
       "3          576370      31690                        9              46.28\n",
       "4         1048352      31691                        1              17.90"
      ]
     },
     "execution_count": 4,
     "metadata": {},
     "output_type": "execute_result"
    }
   ],
   "source": [
    "Returns.head()"
   ]
  },
  {
   "cell_type": "code",
   "execution_count": 5,
   "metadata": {},
   "outputs": [
    {
     "data": {
      "text/plain": [
       "((800000, 7), (93454, 4))"
      ]
     },
     "execution_count": 5,
     "metadata": {},
     "output_type": "execute_result"
    }
   ],
   "source": [
    "# size\n",
    "Sales.shape, Returns.shape"
   ]
  },
  {
   "cell_type": "markdown",
   "metadata": {},
   "source": [
    "## Sample queries"
   ]
  },
  {
   "cell_type": "markdown",
   "metadata": {},
   "source": [
    "How many clients placed more than 5 orders within given period ?"
   ]
  },
  {
   "cell_type": "code",
   "execution_count": 6,
   "metadata": {},
   "outputs": [
    {
     "data": {
      "text/plain": [
       "Client_id    2474\n",
       "count        2474\n",
       "dtype: int64"
      ]
     },
     "execution_count": 6,
     "metadata": {},
     "output_type": "execute_result"
    }
   ],
   "source": [
    "# count transactions per client\n",
    "temp = Sales.groupby(['Client_id'], as_index = False)['Transaction_id'].count()\n",
    "# ename column to count\n",
    "temp.rename(columns = {'Transaction_id':'count'}, inplace = True)\n",
    "# ilter rows with count >5 and count these rows\n",
    "temp[temp['count'] >5].count()"
   ]
  },
  {
   "cell_type": "code",
   "execution_count": null,
   "metadata": {},
   "outputs": [],
   "source": []
  },
  {
   "cell_type": "markdown",
   "metadata": {},
   "source": [
    "What is the average count of returned products as per 100.000 clients \n",
    " (we take into consideration those transactions that had some returns)"
   ]
  },
  {
   "cell_type": "code",
   "execution_count": 7,
   "metadata": {},
   "outputs": [],
   "source": [
    "# filter Sales table by transactions that had returns\n",
    "SalesWithReturns= pd.merge(Sales, Returns, on = 'Transaction_id', how = 'right')\n",
    "#SalesWithReturns.head()"
   ]
  },
  {
   "cell_type": "code",
   "execution_count": 8,
   "metadata": {},
   "outputs": [
    {
     "data": {
      "text/plain": [
       "342548"
      ]
     },
     "execution_count": 8,
     "metadata": {},
     "output_type": "execute_result"
    }
   ],
   "source": [
    "# sum of returned products\n",
    "SalesWithReturns.Returned_products_count.sum()"
   ]
  },
  {
   "cell_type": "code",
   "execution_count": 9,
   "metadata": {},
   "outputs": [
    {
     "data": {
      "text/plain": [
       "85713"
      ]
     },
     "execution_count": 9,
     "metadata": {},
     "output_type": "execute_result"
    }
   ],
   "source": [
    "# Numer of unique Clients\n",
    "SalesWithReturns.Client_id.nunique()"
   ]
  },
  {
   "cell_type": "code",
   "execution_count": 10,
   "metadata": {},
   "outputs": [
    {
     "data": {
      "text/plain": [
       "399645.3280132535"
      ]
     },
     "execution_count": 10,
     "metadata": {},
     "output_type": "execute_result"
    }
   ],
   "source": [
    "# average number of returned products per 100000 unique clients\n",
    "SalesWithReturns.Returned_products_count.sum()/ SalesWithReturns.Client_id.nunique()* 100000"
   ]
  },
  {
   "cell_type": "code",
   "execution_count": null,
   "metadata": {},
   "outputs": [],
   "source": []
  },
  {
   "cell_type": "markdown",
   "metadata": {},
   "source": [
    "What is the gross value of orders made by top 50 customers. How this amount will change if you take returns into consideration"
   ]
  },
  {
   "cell_type": "code",
   "execution_count": 11,
   "metadata": {},
   "outputs": [
    {
     "data": {
      "text/html": [
       "<div>\n",
       "<style scoped>\n",
       "    .dataframe tbody tr th:only-of-type {\n",
       "        vertical-align: middle;\n",
       "    }\n",
       "\n",
       "    .dataframe tbody tr th {\n",
       "        vertical-align: top;\n",
       "    }\n",
       "\n",
       "    .dataframe thead th {\n",
       "        text-align: right;\n",
       "    }\n",
       "</style>\n",
       "<table border=\"1\" class=\"dataframe\">\n",
       "  <thead>\n",
       "    <tr style=\"text-align: right;\">\n",
       "      <th></th>\n",
       "      <th>Client_id</th>\n",
       "      <th>Transaction_id</th>\n",
       "      <th>Date</th>\n",
       "      <th>Products_count</th>\n",
       "      <th>SKU</th>\n",
       "      <th>Net_value</th>\n",
       "      <th>Gross_value</th>\n",
       "      <th>Return_id</th>\n",
       "      <th>Returned_products_count</th>\n",
       "      <th>Returns_net_value</th>\n",
       "      <th>Gross_value_after_ret</th>\n",
       "    </tr>\n",
       "  </thead>\n",
       "  <tbody>\n",
       "    <tr>\n",
       "      <th>0</th>\n",
       "      <td>2530298</td>\n",
       "      <td>405832</td>\n",
       "      <td>2015-01-20 09:18:22</td>\n",
       "      <td>7</td>\n",
       "      <td>7</td>\n",
       "      <td>42.76</td>\n",
       "      <td>52.59</td>\n",
       "      <td>NaN</td>\n",
       "      <td>NaN</td>\n",
       "      <td>0.00</td>\n",
       "      <td>52.5900</td>\n",
       "    </tr>\n",
       "    <tr>\n",
       "      <th>1</th>\n",
       "      <td>2348582</td>\n",
       "      <td>405833</td>\n",
       "      <td>2015-01-20 09:30:26</td>\n",
       "      <td>3</td>\n",
       "      <td>3</td>\n",
       "      <td>23.26</td>\n",
       "      <td>28.61</td>\n",
       "      <td>73903.0</td>\n",
       "      <td>2.0</td>\n",
       "      <td>11.63</td>\n",
       "      <td>14.3051</td>\n",
       "    </tr>\n",
       "    <tr>\n",
       "      <th>2</th>\n",
       "      <td>2754973</td>\n",
       "      <td>405834</td>\n",
       "      <td>2015-01-20 09:30:39</td>\n",
       "      <td>2</td>\n",
       "      <td>2</td>\n",
       "      <td>16.99</td>\n",
       "      <td>20.90</td>\n",
       "      <td>NaN</td>\n",
       "      <td>NaN</td>\n",
       "      <td>0.00</td>\n",
       "      <td>20.9000</td>\n",
       "    </tr>\n",
       "    <tr>\n",
       "      <th>3</th>\n",
       "      <td>2751501</td>\n",
       "      <td>405835</td>\n",
       "      <td>2015-01-20 09:42:47</td>\n",
       "      <td>13</td>\n",
       "      <td>8</td>\n",
       "      <td>57.02</td>\n",
       "      <td>70.13</td>\n",
       "      <td>NaN</td>\n",
       "      <td>NaN</td>\n",
       "      <td>0.00</td>\n",
       "      <td>70.1300</td>\n",
       "    </tr>\n",
       "    <tr>\n",
       "      <th>4</th>\n",
       "      <td>2334605</td>\n",
       "      <td>405836</td>\n",
       "      <td>2015-01-20 09:43:56</td>\n",
       "      <td>4</td>\n",
       "      <td>4</td>\n",
       "      <td>24.87</td>\n",
       "      <td>30.59</td>\n",
       "      <td>NaN</td>\n",
       "      <td>NaN</td>\n",
       "      <td>0.00</td>\n",
       "      <td>30.5900</td>\n",
       "    </tr>\n",
       "  </tbody>\n",
       "</table>\n",
       "</div>"
      ],
      "text/plain": [
       "   Client_id  Transaction_id                 Date  Products_count  SKU  \\\n",
       "0    2530298          405832  2015-01-20 09:18:22               7    7   \n",
       "1    2348582          405833  2015-01-20 09:30:26               3    3   \n",
       "2    2754973          405834  2015-01-20 09:30:39               2    2   \n",
       "3    2751501          405835  2015-01-20 09:42:47              13    8   \n",
       "4    2334605          405836  2015-01-20 09:43:56               4    4   \n",
       "\n",
       "   Net_value  Gross_value  Return_id  Returned_products_count  \\\n",
       "0      42.76        52.59        NaN                      NaN   \n",
       "1      23.26        28.61    73903.0                      2.0   \n",
       "2      16.99        20.90        NaN                      NaN   \n",
       "3      57.02        70.13        NaN                      NaN   \n",
       "4      24.87        30.59        NaN                      NaN   \n",
       "\n",
       "   Returns_net_value  Gross_value_after_ret  \n",
       "0               0.00                52.5900  \n",
       "1              11.63                14.3051  \n",
       "2               0.00                20.9000  \n",
       "3               0.00                70.1300  \n",
       "4               0.00                30.5900  "
      ]
     },
     "execution_count": 11,
     "metadata": {},
     "output_type": "execute_result"
    }
   ],
   "source": [
    "#merge with Sales with Returns to calculate sales after returns\n",
    "temp = pd.merge(Sales, Returns, on = 'Transaction_id', how = 'left')\n",
    "temp.head()\n",
    "# fill Nan in 'Returns_net_value' column, i.e. where there were no returns\n",
    "temp.Returns_net_value.fillna(0, inplace = True)\n",
    "# gross value with returns\n",
    "temp['Gross_value_after_ret'] = temp['Gross_value'] - temp['Returns_net_value']*1.23\n",
    "temp.head()"
   ]
  },
  {
   "cell_type": "code",
   "execution_count": 12,
   "metadata": {},
   "outputs": [],
   "source": [
    "#calculate sales value per Client_id\n",
    "temp2 = temp.groupby(['Client_id'], as_index = False)[['Gross_value', 'Gross_value_after_ret']].sum()\n",
    "#sort descending by 'Gross_value' before returns !\n",
    "temp3 = temp2.sort_values('Gross_value', ascending = False)\n",
    "# filter top 50 \n",
    "temp4 = temp3[0:50]"
   ]
  },
  {
   "cell_type": "code",
   "execution_count": 13,
   "metadata": {},
   "outputs": [
    {
     "data": {
      "text/plain": [
       "(17217.390000000003, 15903.934500000001)"
      ]
     },
     "execution_count": 13,
     "metadata": {},
     "output_type": "execute_result"
    }
   ],
   "source": [
    "#sum of the top 50\n",
    "temp4['Gross_value'].sum(), temp4['Gross_value_after_ret'].sum()"
   ]
  },
  {
   "cell_type": "code",
   "execution_count": null,
   "metadata": {},
   "outputs": [],
   "source": []
  },
  {
   "cell_type": "markdown",
   "metadata": {},
   "source": [
    "In how many orders there are more products than product types (i.e. SKUs) after including returns"
   ]
  },
  {
   "cell_type": "code",
   "execution_count": 14,
   "metadata": {},
   "outputs": [],
   "source": [
    "#merge Sales and Returns table\n",
    "temp = pd.merge(Sales, Returns, on = 'Transaction_id', how = 'left')\n",
    "# fill Nan in 'Returns_products_count' column, i.e. where there were no returns\n",
    "temp.Returned_products_count.fillna(0, inplace = True)"
   ]
  },
  {
   "cell_type": "code",
   "execution_count": 15,
   "metadata": {},
   "outputs": [
    {
     "data": {
      "text/html": [
       "<div>\n",
       "<style scoped>\n",
       "    .dataframe tbody tr th:only-of-type {\n",
       "        vertical-align: middle;\n",
       "    }\n",
       "\n",
       "    .dataframe tbody tr th {\n",
       "        vertical-align: top;\n",
       "    }\n",
       "\n",
       "    .dataframe thead th {\n",
       "        text-align: right;\n",
       "    }\n",
       "</style>\n",
       "<table border=\"1\" class=\"dataframe\">\n",
       "  <thead>\n",
       "    <tr style=\"text-align: right;\">\n",
       "      <th></th>\n",
       "      <th>Client_id</th>\n",
       "      <th>Transaction_id</th>\n",
       "      <th>Date</th>\n",
       "      <th>Products_count</th>\n",
       "      <th>SKU</th>\n",
       "      <th>Net_value</th>\n",
       "      <th>Gross_value</th>\n",
       "      <th>Return_id</th>\n",
       "      <th>Returned_products_count</th>\n",
       "      <th>Returns_net_value</th>\n",
       "    </tr>\n",
       "  </thead>\n",
       "  <tbody>\n",
       "    <tr>\n",
       "      <th>0</th>\n",
       "      <td>2530298</td>\n",
       "      <td>405832</td>\n",
       "      <td>2015-01-20 09:18:22</td>\n",
       "      <td>7</td>\n",
       "      <td>7</td>\n",
       "      <td>42.76</td>\n",
       "      <td>52.59</td>\n",
       "      <td>NaN</td>\n",
       "      <td>0.0</td>\n",
       "      <td>NaN</td>\n",
       "    </tr>\n",
       "    <tr>\n",
       "      <th>1</th>\n",
       "      <td>2348582</td>\n",
       "      <td>405833</td>\n",
       "      <td>2015-01-20 09:30:26</td>\n",
       "      <td>3</td>\n",
       "      <td>3</td>\n",
       "      <td>23.26</td>\n",
       "      <td>28.61</td>\n",
       "      <td>73903.0</td>\n",
       "      <td>2.0</td>\n",
       "      <td>11.63</td>\n",
       "    </tr>\n",
       "    <tr>\n",
       "      <th>2</th>\n",
       "      <td>2754973</td>\n",
       "      <td>405834</td>\n",
       "      <td>2015-01-20 09:30:39</td>\n",
       "      <td>2</td>\n",
       "      <td>2</td>\n",
       "      <td>16.99</td>\n",
       "      <td>20.90</td>\n",
       "      <td>NaN</td>\n",
       "      <td>0.0</td>\n",
       "      <td>NaN</td>\n",
       "    </tr>\n",
       "    <tr>\n",
       "      <th>3</th>\n",
       "      <td>2751501</td>\n",
       "      <td>405835</td>\n",
       "      <td>2015-01-20 09:42:47</td>\n",
       "      <td>13</td>\n",
       "      <td>8</td>\n",
       "      <td>57.02</td>\n",
       "      <td>70.13</td>\n",
       "      <td>NaN</td>\n",
       "      <td>0.0</td>\n",
       "      <td>NaN</td>\n",
       "    </tr>\n",
       "    <tr>\n",
       "      <th>4</th>\n",
       "      <td>2334605</td>\n",
       "      <td>405836</td>\n",
       "      <td>2015-01-20 09:43:56</td>\n",
       "      <td>4</td>\n",
       "      <td>4</td>\n",
       "      <td>24.87</td>\n",
       "      <td>30.59</td>\n",
       "      <td>NaN</td>\n",
       "      <td>0.0</td>\n",
       "      <td>NaN</td>\n",
       "    </tr>\n",
       "  </tbody>\n",
       "</table>\n",
       "</div>"
      ],
      "text/plain": [
       "   Client_id  Transaction_id                 Date  Products_count  SKU  \\\n",
       "0    2530298          405832  2015-01-20 09:18:22               7    7   \n",
       "1    2348582          405833  2015-01-20 09:30:26               3    3   \n",
       "2    2754973          405834  2015-01-20 09:30:39               2    2   \n",
       "3    2751501          405835  2015-01-20 09:42:47              13    8   \n",
       "4    2334605          405836  2015-01-20 09:43:56               4    4   \n",
       "\n",
       "   Net_value  Gross_value  Return_id  Returned_products_count  \\\n",
       "0      42.76        52.59        NaN                      0.0   \n",
       "1      23.26        28.61    73903.0                      2.0   \n",
       "2      16.99        20.90        NaN                      0.0   \n",
       "3      57.02        70.13        NaN                      0.0   \n",
       "4      24.87        30.59        NaN                      0.0   \n",
       "\n",
       "   Returns_net_value  \n",
       "0                NaN  \n",
       "1              11.63  \n",
       "2                NaN  \n",
       "3                NaN  \n",
       "4                NaN  "
      ]
     },
     "execution_count": 15,
     "metadata": {},
     "output_type": "execute_result"
    }
   ],
   "source": [
    "temp.head()"
   ]
  },
  {
   "cell_type": "code",
   "execution_count": 16,
   "metadata": {},
   "outputs": [],
   "source": [
    "# calculate products after returns\n",
    "temp['Products_count_after_returns'] = temp['Products_count'] - temp['Returned_products_count']"
   ]
  },
  {
   "cell_type": "code",
   "execution_count": 17,
   "metadata": {},
   "outputs": [
    {
     "data": {
      "text/plain": [
       "76460"
      ]
     },
     "execution_count": 17,
     "metadata": {},
     "output_type": "execute_result"
    }
   ],
   "source": [
    "# filter the condition\n",
    "temp2 = temp[temp['Products_count_after_returns'] > temp['SKU']]\n",
    "# calculate rows filtered rows\n",
    "len(temp2)"
   ]
  },
  {
   "cell_type": "code",
   "execution_count": 18,
   "metadata": {},
   "outputs": [
    {
     "data": {
      "text/plain": [
       "76460"
      ]
     },
     "execution_count": 18,
     "metadata": {},
     "output_type": "execute_result"
    }
   ],
   "source": [
    "# group transactions in case there are duplicates\n",
    "temp3 = temp2.groupby(['Transaction_id'])['Products_count_after_returns'].sum()\n",
    "len(temp3)"
   ]
  },
  {
   "cell_type": "code",
   "execution_count": null,
   "metadata": {},
   "outputs": [],
   "source": []
  },
  {
   "cell_type": "markdown",
   "metadata": {},
   "source": [
    "What is the average order net value"
   ]
  },
  {
   "cell_type": "code",
   "execution_count": 19,
   "metadata": {},
   "outputs": [
    {
     "data": {
      "text/plain": [
       "29.50451636249986"
      ]
     },
     "execution_count": 19,
     "metadata": {},
     "output_type": "execute_result"
    }
   ],
   "source": [
    "# calculate net_value per transaction, in case there are duplicates\n",
    "temp = Sales.groupby(['Transaction_id'], as_index = False)['Net_value'].sum()\n",
    "# calculate mean\n",
    "temp['Net_value'].mean()"
   ]
  },
  {
   "cell_type": "code",
   "execution_count": null,
   "metadata": {},
   "outputs": [],
   "source": []
  },
  {
   "cell_type": "markdown",
   "metadata": {},
   "source": [
    "What is the average order net value after returns"
   ]
  },
  {
   "cell_type": "code",
   "execution_count": 20,
   "metadata": {},
   "outputs": [],
   "source": [
    "#merge with Sales with Returns to calculate sales after returns\n",
    "temp = pd.merge(Sales, Returns, on = 'Transaction_id', how = 'left')\n",
    "temp.head()\n",
    "# fill Nan in 'Returns_net_value' column, i.e. where there were no returns\n",
    "temp.Returns_net_value.fillna(0, inplace = True)\n",
    "# gross value with returns\n",
    "temp['Net_value_after_ret'] = temp['Net_value'] - temp['Returns_net_value']\n",
    "#temp.head()"
   ]
  },
  {
   "cell_type": "code",
   "execution_count": 21,
   "metadata": {},
   "outputs": [
    {
     "data": {
      "text/plain": [
       "27.303006412500086"
      ]
     },
     "execution_count": 21,
     "metadata": {},
     "output_type": "execute_result"
    }
   ],
   "source": [
    "# calculate net_value per transaction, in case there are duplicates\n",
    "temp2 = temp.groupby(['Transaction_id'], as_index = False)['Net_value_after_ret'].sum()\n",
    "# calculate mean\n",
    "temp2['Net_value_after_ret'].mean()"
   ]
  },
  {
   "cell_type": "code",
   "execution_count": null,
   "metadata": {},
   "outputs": [],
   "source": []
  },
  {
   "cell_type": "markdown",
   "metadata": {},
   "source": [
    "How the value and amount of returns changed over the years"
   ]
  },
  {
   "cell_type": "code",
   "execution_count": 22,
   "metadata": {},
   "outputs": [
    {
     "data": {
      "text/html": [
       "<div>\n",
       "<style scoped>\n",
       "    .dataframe tbody tr th:only-of-type {\n",
       "        vertical-align: middle;\n",
       "    }\n",
       "\n",
       "    .dataframe tbody tr th {\n",
       "        vertical-align: top;\n",
       "    }\n",
       "\n",
       "    .dataframe thead th {\n",
       "        text-align: right;\n",
       "    }\n",
       "</style>\n",
       "<table border=\"1\" class=\"dataframe\">\n",
       "  <thead>\n",
       "    <tr style=\"text-align: right;\">\n",
       "      <th></th>\n",
       "      <th>Client_id</th>\n",
       "      <th>Transaction_id</th>\n",
       "      <th>Date</th>\n",
       "      <th>Products_count</th>\n",
       "      <th>SKU</th>\n",
       "      <th>Net_value</th>\n",
       "      <th>Gross_value</th>\n",
       "      <th>Return_id</th>\n",
       "      <th>Returned_products_count</th>\n",
       "      <th>Returns_net_value</th>\n",
       "    </tr>\n",
       "  </thead>\n",
       "  <tbody>\n",
       "    <tr>\n",
       "      <th>0</th>\n",
       "      <td>2491562</td>\n",
       "      <td>1071769</td>\n",
       "      <td>2019-05-25 15:30:36</td>\n",
       "      <td>11</td>\n",
       "      <td>6</td>\n",
       "      <td>42.24</td>\n",
       "      <td>51.96</td>\n",
       "      <td>31687</td>\n",
       "      <td>10</td>\n",
       "      <td>21.12</td>\n",
       "    </tr>\n",
       "    <tr>\n",
       "      <th>1</th>\n",
       "      <td>2462789</td>\n",
       "      <td>768981</td>\n",
       "      <td>2017-06-04 03:24:44</td>\n",
       "      <td>1</td>\n",
       "      <td>1</td>\n",
       "      <td>8.40</td>\n",
       "      <td>10.33</td>\n",
       "      <td>31688</td>\n",
       "      <td>1</td>\n",
       "      <td>8.40</td>\n",
       "    </tr>\n",
       "    <tr>\n",
       "      <th>2</th>\n",
       "      <td>2487287</td>\n",
       "      <td>1099412</td>\n",
       "      <td>2019-07-31 01:52:18</td>\n",
       "      <td>10</td>\n",
       "      <td>10</td>\n",
       "      <td>45.41</td>\n",
       "      <td>55.85</td>\n",
       "      <td>31689</td>\n",
       "      <td>8</td>\n",
       "      <td>22.70</td>\n",
       "    </tr>\n",
       "    <tr>\n",
       "      <th>3</th>\n",
       "      <td>2479812</td>\n",
       "      <td>576370</td>\n",
       "      <td>2016-03-03 00:58:43</td>\n",
       "      <td>9</td>\n",
       "      <td>5</td>\n",
       "      <td>46.28</td>\n",
       "      <td>56.92</td>\n",
       "      <td>31690</td>\n",
       "      <td>9</td>\n",
       "      <td>46.28</td>\n",
       "    </tr>\n",
       "    <tr>\n",
       "      <th>4</th>\n",
       "      <td>2572558</td>\n",
       "      <td>1048352</td>\n",
       "      <td>2019-03-30 13:49:06</td>\n",
       "      <td>1</td>\n",
       "      <td>1</td>\n",
       "      <td>17.90</td>\n",
       "      <td>22.02</td>\n",
       "      <td>31691</td>\n",
       "      <td>1</td>\n",
       "      <td>17.90</td>\n",
       "    </tr>\n",
       "  </tbody>\n",
       "</table>\n",
       "</div>"
      ],
      "text/plain": [
       "   Client_id  Transaction_id                 Date  Products_count  SKU  \\\n",
       "0    2491562         1071769  2019-05-25 15:30:36              11    6   \n",
       "1    2462789          768981  2017-06-04 03:24:44               1    1   \n",
       "2    2487287         1099412  2019-07-31 01:52:18              10   10   \n",
       "3    2479812          576370  2016-03-03 00:58:43               9    5   \n",
       "4    2572558         1048352  2019-03-30 13:49:06               1    1   \n",
       "\n",
       "   Net_value  Gross_value  Return_id  Returned_products_count  \\\n",
       "0      42.24        51.96      31687                       10   \n",
       "1       8.40        10.33      31688                        1   \n",
       "2      45.41        55.85      31689                        8   \n",
       "3      46.28        56.92      31690                        9   \n",
       "4      17.90        22.02      31691                        1   \n",
       "\n",
       "   Returns_net_value  \n",
       "0              21.12  \n",
       "1               8.40  \n",
       "2              22.70  \n",
       "3              46.28  \n",
       "4              17.90  "
      ]
     },
     "execution_count": 22,
     "metadata": {},
     "output_type": "execute_result"
    }
   ],
   "source": [
    "# join Sales to Retuns to add date\n",
    "temp = pd.merge(Sales, Returns, on = 'Transaction_id', how = 'right')\n",
    "temp.head()"
   ]
  },
  {
   "cell_type": "code",
   "execution_count": 23,
   "metadata": {},
   "outputs": [],
   "source": [
    "#convert to datetime\n",
    "temp['Date2'] = pd.to_datetime(temp['Date'])\n",
    "# extract year\n",
    "temp['Year'] = temp['Date2'].dt.year\n",
    "# groupby year\n",
    "temp2 = temp.groupby(temp['Year'])[['Returns_net_value', 'Returned_products_count']].sum()"
   ]
  },
  {
   "cell_type": "code",
   "execution_count": 24,
   "metadata": {},
   "outputs": [
    {
     "data": {
      "text/html": [
       "<div>\n",
       "<style scoped>\n",
       "    .dataframe tbody tr th:only-of-type {\n",
       "        vertical-align: middle;\n",
       "    }\n",
       "\n",
       "    .dataframe tbody tr th {\n",
       "        vertical-align: top;\n",
       "    }\n",
       "\n",
       "    .dataframe thead th {\n",
       "        text-align: right;\n",
       "    }\n",
       "</style>\n",
       "<table border=\"1\" class=\"dataframe\">\n",
       "  <thead>\n",
       "    <tr style=\"text-align: right;\">\n",
       "      <th></th>\n",
       "      <th>Returns_net_value</th>\n",
       "      <th>Returned_products_count</th>\n",
       "    </tr>\n",
       "    <tr>\n",
       "      <th>Year</th>\n",
       "      <th></th>\n",
       "      <th></th>\n",
       "    </tr>\n",
       "  </thead>\n",
       "  <tbody>\n",
       "    <tr>\n",
       "      <th>2015</th>\n",
       "      <td>317818.80</td>\n",
       "      <td>62191</td>\n",
       "    </tr>\n",
       "    <tr>\n",
       "      <th>2016</th>\n",
       "      <td>339755.88</td>\n",
       "      <td>66249</td>\n",
       "    </tr>\n",
       "    <tr>\n",
       "      <th>2017</th>\n",
       "      <td>335833.94</td>\n",
       "      <td>65859</td>\n",
       "    </tr>\n",
       "    <tr>\n",
       "      <th>2018</th>\n",
       "      <td>344788.24</td>\n",
       "      <td>66312</td>\n",
       "    </tr>\n",
       "    <tr>\n",
       "      <th>2019</th>\n",
       "      <td>331093.03</td>\n",
       "      <td>63898</td>\n",
       "    </tr>\n",
       "    <tr>\n",
       "      <th>2020</th>\n",
       "      <td>92376.05</td>\n",
       "      <td>18039</td>\n",
       "    </tr>\n",
       "  </tbody>\n",
       "</table>\n",
       "</div>"
      ],
      "text/plain": [
       "      Returns_net_value  Returned_products_count\n",
       "Year                                            \n",
       "2015          317818.80                    62191\n",
       "2016          339755.88                    66249\n",
       "2017          335833.94                    65859\n",
       "2018          344788.24                    66312\n",
       "2019          331093.03                    63898\n",
       "2020           92376.05                    18039"
      ]
     },
     "execution_count": 24,
     "metadata": {},
     "output_type": "execute_result"
    }
   ],
   "source": [
    "temp2"
   ]
  },
  {
   "cell_type": "code",
   "execution_count": null,
   "metadata": {},
   "outputs": [],
   "source": []
  },
  {
   "cell_type": "markdown",
   "metadata": {},
   "source": [
    "Which client had the biggest gap between orders"
   ]
  },
  {
   "cell_type": "code",
   "execution_count": 25,
   "metadata": {},
   "outputs": [
    {
     "data": {
      "text/plain": [
       "'100-12-12 00:00:00'"
      ]
     },
     "execution_count": 25,
     "metadata": {},
     "output_type": "execute_result"
    }
   ],
   "source": [
    "# create a copy\n",
    "Sales2 = Sales.copy(deep = True)\n",
    "#fix error\n",
    "Sales2['Date'].min()"
   ]
  },
  {
   "cell_type": "code",
   "execution_count": 26,
   "metadata": {},
   "outputs": [
    {
     "data": {
      "text/html": [
       "<div>\n",
       "<style scoped>\n",
       "    .dataframe tbody tr th:only-of-type {\n",
       "        vertical-align: middle;\n",
       "    }\n",
       "\n",
       "    .dataframe tbody tr th {\n",
       "        vertical-align: top;\n",
       "    }\n",
       "\n",
       "    .dataframe thead th {\n",
       "        text-align: right;\n",
       "    }\n",
       "</style>\n",
       "<table border=\"1\" class=\"dataframe\">\n",
       "  <thead>\n",
       "    <tr style=\"text-align: right;\">\n",
       "      <th></th>\n",
       "      <th>Client_id</th>\n",
       "      <th>Transaction_id</th>\n",
       "      <th>Date</th>\n",
       "      <th>Products_count</th>\n",
       "      <th>SKU</th>\n",
       "      <th>Net_value</th>\n",
       "      <th>Gross_value</th>\n",
       "    </tr>\n",
       "  </thead>\n",
       "  <tbody>\n",
       "    <tr>\n",
       "      <th>761679</th>\n",
       "      <td>2387523</td>\n",
       "      <td>1167511</td>\n",
       "      <td>100-12-12 00:00:00</td>\n",
       "      <td>6</td>\n",
       "      <td>6</td>\n",
       "      <td>36.1</td>\n",
       "      <td>44.4</td>\n",
       "    </tr>\n",
       "  </tbody>\n",
       "</table>\n",
       "</div>"
      ],
      "text/plain": [
       "        Client_id  Transaction_id                Date  Products_count  SKU  \\\n",
       "761679    2387523         1167511  100-12-12 00:00:00               6    6   \n",
       "\n",
       "        Net_value  Gross_value  \n",
       "761679       36.1         44.4  "
      ]
     },
     "execution_count": 26,
     "metadata": {},
     "output_type": "execute_result"
    }
   ],
   "source": [
    "# find the index of wrong row\n",
    "Sales2[Sales2['Date'] ==Sales2['Date'].min()]"
   ]
  },
  {
   "cell_type": "code",
   "execution_count": 27,
   "metadata": {},
   "outputs": [],
   "source": [
    "# drop row with wrong date\n",
    "Sales2.drop(index = 761679, inplace = True)"
   ]
  },
  {
   "cell_type": "code",
   "execution_count": 28,
   "metadata": {},
   "outputs": [
    {
     "data": {
      "text/plain": [
       "((799999, 7), '10:55:06 02-03-2019')"
      ]
     },
     "execution_count": 28,
     "metadata": {},
     "output_type": "execute_result"
    }
   ],
   "source": [
    "#check\n",
    "Sales2.shape, Sales2['Date'].min()"
   ]
  },
  {
   "cell_type": "code",
   "execution_count": 29,
   "metadata": {},
   "outputs": [
    {
     "data": {
      "text/html": [
       "<div>\n",
       "<style scoped>\n",
       "    .dataframe tbody tr th:only-of-type {\n",
       "        vertical-align: middle;\n",
       "    }\n",
       "\n",
       "    .dataframe tbody tr th {\n",
       "        vertical-align: top;\n",
       "    }\n",
       "\n",
       "    .dataframe thead th {\n",
       "        text-align: right;\n",
       "    }\n",
       "</style>\n",
       "<table border=\"1\" class=\"dataframe\">\n",
       "  <thead>\n",
       "    <tr style=\"text-align: right;\">\n",
       "      <th></th>\n",
       "      <th>Client_id</th>\n",
       "      <th>Transaction_id</th>\n",
       "      <th>Date</th>\n",
       "      <th>Products_count</th>\n",
       "      <th>SKU</th>\n",
       "      <th>Net_value</th>\n",
       "      <th>Gross_value</th>\n",
       "    </tr>\n",
       "  </thead>\n",
       "  <tbody>\n",
       "    <tr>\n",
       "      <th>630677</th>\n",
       "      <td>2459730</td>\n",
       "      <td>1036509</td>\n",
       "      <td>10:55:06 02-03-2019</td>\n",
       "      <td>4</td>\n",
       "      <td>4</td>\n",
       "      <td>27.96</td>\n",
       "      <td>34.39</td>\n",
       "    </tr>\n",
       "  </tbody>\n",
       "</table>\n",
       "</div>"
      ],
      "text/plain": [
       "        Client_id  Transaction_id                 Date  Products_count  SKU  \\\n",
       "630677    2459730         1036509  10:55:06 02-03-2019               4    4   \n",
       "\n",
       "        Net_value  Gross_value  \n",
       "630677      27.96        34.39  "
      ]
     },
     "execution_count": 29,
     "metadata": {},
     "output_type": "execute_result"
    }
   ],
   "source": [
    "#fix second error\n",
    "Sales2[Sales2['Date'] ==Sales2['Date'].min()]"
   ]
  },
  {
   "cell_type": "code",
   "execution_count": 30,
   "metadata": {},
   "outputs": [],
   "source": [
    "# drop row with wrong date\n",
    "Sales2.drop(index = 630677, inplace = True)"
   ]
  },
  {
   "cell_type": "code",
   "execution_count": 31,
   "metadata": {},
   "outputs": [],
   "source": [
    "# drop unecessary columns\n",
    "Sales2.drop(['Transaction_id', 'Products_count', 'SKU', 'Net_value','Gross_value'], axis = 1, inplace = True)\n",
    "# sort\n",
    "Sales2 = Sales2.sort_values(by = ['Client_id','Date'])"
   ]
  },
  {
   "cell_type": "code",
   "execution_count": 32,
   "metadata": {},
   "outputs": [],
   "source": [
    "#convert to datetime\n",
    "Sales2['Date'] = pd.to_datetime(Sales2['Date'])\n",
    "# create temp columns with values of next row\n",
    "Sales2['Client_temp'] =  Sales2['Client_id'].shift(-1)\n",
    "Sales2['Date_temp'] =  Sales2['Date'].shift(-1)"
   ]
  },
  {
   "cell_type": "code",
   "execution_count": 33,
   "metadata": {},
   "outputs": [],
   "source": [
    "# calculate the date difference in case next row has data of the same client\n",
    "Sales2['datediff'] = np.where(Sales2['Client_temp'] ==Sales2['Client_id'], Sales2['Date_temp'] - Sales2['Date'], 0)"
   ]
  },
  {
   "cell_type": "code",
   "execution_count": 34,
   "metadata": {},
   "outputs": [
    {
     "data": {
      "text/html": [
       "<div>\n",
       "<style scoped>\n",
       "    .dataframe tbody tr th:only-of-type {\n",
       "        vertical-align: middle;\n",
       "    }\n",
       "\n",
       "    .dataframe tbody tr th {\n",
       "        vertical-align: top;\n",
       "    }\n",
       "\n",
       "    .dataframe thead th {\n",
       "        text-align: right;\n",
       "    }\n",
       "</style>\n",
       "<table border=\"1\" class=\"dataframe\">\n",
       "  <thead>\n",
       "    <tr style=\"text-align: right;\">\n",
       "      <th></th>\n",
       "      <th>Client_id</th>\n",
       "      <th>Date</th>\n",
       "      <th>Client_temp</th>\n",
       "      <th>Date_temp</th>\n",
       "      <th>datediff</th>\n",
       "    </tr>\n",
       "  </thead>\n",
       "  <tbody>\n",
       "    <tr>\n",
       "      <th>318195</th>\n",
       "      <td>2236822</td>\n",
       "      <td>2017-02-16 16:40:20</td>\n",
       "      <td>2236823.0</td>\n",
       "      <td>2016-04-27 23:47:24</td>\n",
       "      <td>0 days 00:00:00</td>\n",
       "    </tr>\n",
       "    <tr>\n",
       "      <th>194179</th>\n",
       "      <td>2236823</td>\n",
       "      <td>2016-04-27 23:47:24</td>\n",
       "      <td>2236823.0</td>\n",
       "      <td>2017-03-31 03:53:43</td>\n",
       "      <td>337 days 04:06:19</td>\n",
       "    </tr>\n",
       "    <tr>\n",
       "      <th>335876</th>\n",
       "      <td>2236823</td>\n",
       "      <td>2017-03-31 03:53:43</td>\n",
       "      <td>2236823.0</td>\n",
       "      <td>2017-04-06 00:23:33</td>\n",
       "      <td>5 days 20:29:50</td>\n",
       "    </tr>\n",
       "    <tr>\n",
       "      <th>338272</th>\n",
       "      <td>2236823</td>\n",
       "      <td>2017-04-06 00:23:33</td>\n",
       "      <td>2236823.0</td>\n",
       "      <td>2018-10-16 04:55:31</td>\n",
       "      <td>558 days 04:31:58</td>\n",
       "    </tr>\n",
       "    <tr>\n",
       "      <th>572887</th>\n",
       "      <td>2236823</td>\n",
       "      <td>2018-10-16 04:55:31</td>\n",
       "      <td>2236824.0</td>\n",
       "      <td>2018-08-28 21:25:21</td>\n",
       "      <td>0 days 00:00:00</td>\n",
       "    </tr>\n",
       "    <tr>\n",
       "      <th>552681</th>\n",
       "      <td>2236824</td>\n",
       "      <td>2018-08-28 21:25:21</td>\n",
       "      <td>2236825.0</td>\n",
       "      <td>2017-05-19 12:35:11</td>\n",
       "      <td>0 days 00:00:00</td>\n",
       "    </tr>\n",
       "    <tr>\n",
       "      <th>356521</th>\n",
       "      <td>2236825</td>\n",
       "      <td>2017-05-19 12:35:11</td>\n",
       "      <td>2236825.0</td>\n",
       "      <td>2018-01-07 16:40:34</td>\n",
       "      <td>233 days 04:05:23</td>\n",
       "    </tr>\n",
       "    <tr>\n",
       "      <th>454476</th>\n",
       "      <td>2236825</td>\n",
       "      <td>2018-01-07 16:40:34</td>\n",
       "      <td>2236826.0</td>\n",
       "      <td>2015-07-13 15:36:58</td>\n",
       "      <td>0 days 00:00:00</td>\n",
       "    </tr>\n",
       "    <tr>\n",
       "      <th>72903</th>\n",
       "      <td>2236826</td>\n",
       "      <td>2015-07-13 15:36:58</td>\n",
       "      <td>2236826.0</td>\n",
       "      <td>2016-11-05 02:50:20</td>\n",
       "      <td>480 days 11:13:22</td>\n",
       "    </tr>\n",
       "    <tr>\n",
       "      <th>274519</th>\n",
       "      <td>2236826</td>\n",
       "      <td>2016-11-05 02:50:20</td>\n",
       "      <td>2236827.0</td>\n",
       "      <td>2015-07-03 14:50:06</td>\n",
       "      <td>0 days 00:00:00</td>\n",
       "    </tr>\n",
       "  </tbody>\n",
       "</table>\n",
       "</div>"
      ],
      "text/plain": [
       "        Client_id                Date  Client_temp           Date_temp  \\\n",
       "318195    2236822 2017-02-16 16:40:20    2236823.0 2016-04-27 23:47:24   \n",
       "194179    2236823 2016-04-27 23:47:24    2236823.0 2017-03-31 03:53:43   \n",
       "335876    2236823 2017-03-31 03:53:43    2236823.0 2017-04-06 00:23:33   \n",
       "338272    2236823 2017-04-06 00:23:33    2236823.0 2018-10-16 04:55:31   \n",
       "572887    2236823 2018-10-16 04:55:31    2236824.0 2018-08-28 21:25:21   \n",
       "552681    2236824 2018-08-28 21:25:21    2236825.0 2017-05-19 12:35:11   \n",
       "356521    2236825 2017-05-19 12:35:11    2236825.0 2018-01-07 16:40:34   \n",
       "454476    2236825 2018-01-07 16:40:34    2236826.0 2015-07-13 15:36:58   \n",
       "72903     2236826 2015-07-13 15:36:58    2236826.0 2016-11-05 02:50:20   \n",
       "274519    2236826 2016-11-05 02:50:20    2236827.0 2015-07-03 14:50:06   \n",
       "\n",
       "                datediff  \n",
       "318195   0 days 00:00:00  \n",
       "194179 337 days 04:06:19  \n",
       "335876   5 days 20:29:50  \n",
       "338272 558 days 04:31:58  \n",
       "572887   0 days 00:00:00  \n",
       "552681   0 days 00:00:00  \n",
       "356521 233 days 04:05:23  \n",
       "454476   0 days 00:00:00  \n",
       "72903  480 days 11:13:22  \n",
       "274519   0 days 00:00:00  "
      ]
     },
     "execution_count": 34,
     "metadata": {},
     "output_type": "execute_result"
    }
   ],
   "source": [
    "Sales2.head(10)"
   ]
  },
  {
   "cell_type": "code",
   "execution_count": 35,
   "metadata": {},
   "outputs": [
    {
     "data": {
      "text/html": [
       "<div>\n",
       "<style scoped>\n",
       "    .dataframe tbody tr th:only-of-type {\n",
       "        vertical-align: middle;\n",
       "    }\n",
       "\n",
       "    .dataframe tbody tr th {\n",
       "        vertical-align: top;\n",
       "    }\n",
       "\n",
       "    .dataframe thead th {\n",
       "        text-align: right;\n",
       "    }\n",
       "</style>\n",
       "<table border=\"1\" class=\"dataframe\">\n",
       "  <thead>\n",
       "    <tr style=\"text-align: right;\">\n",
       "      <th></th>\n",
       "      <th>Client_id</th>\n",
       "      <th>Date</th>\n",
       "      <th>Client_temp</th>\n",
       "      <th>Date_temp</th>\n",
       "      <th>datediff</th>\n",
       "    </tr>\n",
       "  </thead>\n",
       "  <tbody>\n",
       "    <tr>\n",
       "      <th>341</th>\n",
       "      <td>2700022</td>\n",
       "      <td>2015-01-21 04:20:33</td>\n",
       "      <td>2700022.0</td>\n",
       "      <td>2020-04-02 21:59:00</td>\n",
       "      <td>1898 days 17:38:27</td>\n",
       "    </tr>\n",
       "  </tbody>\n",
       "</table>\n",
       "</div>"
      ],
      "text/plain": [
       "     Client_id                Date  Client_temp           Date_temp  \\\n",
       "341    2700022 2015-01-21 04:20:33    2700022.0 2020-04-02 21:59:00   \n",
       "\n",
       "              datediff  \n",
       "341 1898 days 17:38:27  "
      ]
     },
     "execution_count": 35,
     "metadata": {},
     "output_type": "execute_result"
    }
   ],
   "source": [
    "Sales2[Sales2['datediff']==Sales2['datediff'].max()]"
   ]
  },
  {
   "cell_type": "code",
   "execution_count": 36,
   "metadata": {},
   "outputs": [
    {
     "data": {
      "text/html": [
       "<div>\n",
       "<style scoped>\n",
       "    .dataframe tbody tr th:only-of-type {\n",
       "        vertical-align: middle;\n",
       "    }\n",
       "\n",
       "    .dataframe tbody tr th {\n",
       "        vertical-align: top;\n",
       "    }\n",
       "\n",
       "    .dataframe thead th {\n",
       "        text-align: right;\n",
       "    }\n",
       "</style>\n",
       "<table border=\"1\" class=\"dataframe\">\n",
       "  <thead>\n",
       "    <tr style=\"text-align: right;\">\n",
       "      <th></th>\n",
       "      <th>Client_id</th>\n",
       "      <th>Transaction_id</th>\n",
       "      <th>Date</th>\n",
       "      <th>Products_count</th>\n",
       "      <th>SKU</th>\n",
       "      <th>Net_value</th>\n",
       "      <th>Gross_value</th>\n",
       "    </tr>\n",
       "  </thead>\n",
       "  <tbody>\n",
       "    <tr>\n",
       "      <th>0</th>\n",
       "      <td>2530298</td>\n",
       "      <td>405832</td>\n",
       "      <td>2015-01-20 09:18:22</td>\n",
       "      <td>7</td>\n",
       "      <td>7</td>\n",
       "      <td>42.76</td>\n",
       "      <td>52.59</td>\n",
       "    </tr>\n",
       "    <tr>\n",
       "      <th>1</th>\n",
       "      <td>2348582</td>\n",
       "      <td>405833</td>\n",
       "      <td>2015-01-20 09:30:26</td>\n",
       "      <td>3</td>\n",
       "      <td>3</td>\n",
       "      <td>23.26</td>\n",
       "      <td>28.61</td>\n",
       "    </tr>\n",
       "    <tr>\n",
       "      <th>2</th>\n",
       "      <td>2754973</td>\n",
       "      <td>405834</td>\n",
       "      <td>2015-01-20 09:30:39</td>\n",
       "      <td>2</td>\n",
       "      <td>2</td>\n",
       "      <td>16.99</td>\n",
       "      <td>20.90</td>\n",
       "    </tr>\n",
       "    <tr>\n",
       "      <th>3</th>\n",
       "      <td>2751501</td>\n",
       "      <td>405835</td>\n",
       "      <td>2015-01-20 09:42:47</td>\n",
       "      <td>13</td>\n",
       "      <td>8</td>\n",
       "      <td>57.02</td>\n",
       "      <td>70.13</td>\n",
       "    </tr>\n",
       "    <tr>\n",
       "      <th>4</th>\n",
       "      <td>2334605</td>\n",
       "      <td>405836</td>\n",
       "      <td>2015-01-20 09:43:56</td>\n",
       "      <td>4</td>\n",
       "      <td>4</td>\n",
       "      <td>24.87</td>\n",
       "      <td>30.59</td>\n",
       "    </tr>\n",
       "  </tbody>\n",
       "</table>\n",
       "</div>"
      ],
      "text/plain": [
       "   Client_id  Transaction_id                 Date  Products_count  SKU  \\\n",
       "0    2530298          405832  2015-01-20 09:18:22               7    7   \n",
       "1    2348582          405833  2015-01-20 09:30:26               3    3   \n",
       "2    2754973          405834  2015-01-20 09:30:39               2    2   \n",
       "3    2751501          405835  2015-01-20 09:42:47              13    8   \n",
       "4    2334605          405836  2015-01-20 09:43:56               4    4   \n",
       "\n",
       "   Net_value  Gross_value  \n",
       "0      42.76        52.59  \n",
       "1      23.26        28.61  \n",
       "2      16.99        20.90  \n",
       "3      57.02        70.13  \n",
       "4      24.87        30.59  "
      ]
     },
     "execution_count": 36,
     "metadata": {},
     "output_type": "execute_result"
    }
   ],
   "source": [
    "Sales.head()"
   ]
  },
  {
   "cell_type": "markdown",
   "metadata": {},
   "source": [
    "Summary of the top 100 clients"
   ]
  },
  {
   "cell_type": "code",
   "execution_count": 37,
   "metadata": {},
   "outputs": [],
   "source": [
    "#merge with Sales with Returns to calculate sales after returns\n",
    "temp = pd.merge(Sales, Returns, on = 'Transaction_id', how = 'left')"
   ]
  },
  {
   "cell_type": "code",
   "execution_count": 38,
   "metadata": {},
   "outputs": [],
   "source": [
    "temp.Returned_products_count.fillna(0, inplace = True)\n",
    "temp.Returns_net_value.fillna(0, inplace = True)"
   ]
  },
  {
   "cell_type": "code",
   "execution_count": 39,
   "metadata": {},
   "outputs": [],
   "source": [
    "# calculate net value after returns\n",
    "temp['Net_value_after_ret'] = temp['Net_value'] - temp['Returns_net_value']\n",
    "# calculate products after returns\n",
    "temp['Products_count_after_returns'] = temp['Products_count'] - temp['Returned_products_count']"
   ]
  },
  {
   "cell_type": "code",
   "execution_count": 40,
   "metadata": {},
   "outputs": [
    {
     "data": {
      "text/html": [
       "<div>\n",
       "<style scoped>\n",
       "    .dataframe tbody tr th:only-of-type {\n",
       "        vertical-align: middle;\n",
       "    }\n",
       "\n",
       "    .dataframe tbody tr th {\n",
       "        vertical-align: top;\n",
       "    }\n",
       "\n",
       "    .dataframe thead th {\n",
       "        text-align: right;\n",
       "    }\n",
       "</style>\n",
       "<table border=\"1\" class=\"dataframe\">\n",
       "  <thead>\n",
       "    <tr style=\"text-align: right;\">\n",
       "      <th></th>\n",
       "      <th>Client_id</th>\n",
       "      <th>Transaction_id</th>\n",
       "      <th>Date</th>\n",
       "      <th>Products_count</th>\n",
       "      <th>SKU</th>\n",
       "      <th>Net_value</th>\n",
       "      <th>Gross_value</th>\n",
       "      <th>Return_id</th>\n",
       "      <th>Returned_products_count</th>\n",
       "      <th>Returns_net_value</th>\n",
       "      <th>Net_value_after_ret</th>\n",
       "      <th>Products_count_after_returns</th>\n",
       "    </tr>\n",
       "  </thead>\n",
       "  <tbody>\n",
       "    <tr>\n",
       "      <th>0</th>\n",
       "      <td>2530298</td>\n",
       "      <td>405832</td>\n",
       "      <td>2015-01-20 09:18:22</td>\n",
       "      <td>7</td>\n",
       "      <td>7</td>\n",
       "      <td>42.76</td>\n",
       "      <td>52.59</td>\n",
       "      <td>NaN</td>\n",
       "      <td>0.0</td>\n",
       "      <td>0.00</td>\n",
       "      <td>42.76</td>\n",
       "      <td>7.0</td>\n",
       "    </tr>\n",
       "    <tr>\n",
       "      <th>1</th>\n",
       "      <td>2348582</td>\n",
       "      <td>405833</td>\n",
       "      <td>2015-01-20 09:30:26</td>\n",
       "      <td>3</td>\n",
       "      <td>3</td>\n",
       "      <td>23.26</td>\n",
       "      <td>28.61</td>\n",
       "      <td>73903.0</td>\n",
       "      <td>2.0</td>\n",
       "      <td>11.63</td>\n",
       "      <td>11.63</td>\n",
       "      <td>1.0</td>\n",
       "    </tr>\n",
       "    <tr>\n",
       "      <th>2</th>\n",
       "      <td>2754973</td>\n",
       "      <td>405834</td>\n",
       "      <td>2015-01-20 09:30:39</td>\n",
       "      <td>2</td>\n",
       "      <td>2</td>\n",
       "      <td>16.99</td>\n",
       "      <td>20.90</td>\n",
       "      <td>NaN</td>\n",
       "      <td>0.0</td>\n",
       "      <td>0.00</td>\n",
       "      <td>16.99</td>\n",
       "      <td>2.0</td>\n",
       "    </tr>\n",
       "    <tr>\n",
       "      <th>3</th>\n",
       "      <td>2751501</td>\n",
       "      <td>405835</td>\n",
       "      <td>2015-01-20 09:42:47</td>\n",
       "      <td>13</td>\n",
       "      <td>8</td>\n",
       "      <td>57.02</td>\n",
       "      <td>70.13</td>\n",
       "      <td>NaN</td>\n",
       "      <td>0.0</td>\n",
       "      <td>0.00</td>\n",
       "      <td>57.02</td>\n",
       "      <td>13.0</td>\n",
       "    </tr>\n",
       "    <tr>\n",
       "      <th>4</th>\n",
       "      <td>2334605</td>\n",
       "      <td>405836</td>\n",
       "      <td>2015-01-20 09:43:56</td>\n",
       "      <td>4</td>\n",
       "      <td>4</td>\n",
       "      <td>24.87</td>\n",
       "      <td>30.59</td>\n",
       "      <td>NaN</td>\n",
       "      <td>0.0</td>\n",
       "      <td>0.00</td>\n",
       "      <td>24.87</td>\n",
       "      <td>4.0</td>\n",
       "    </tr>\n",
       "  </tbody>\n",
       "</table>\n",
       "</div>"
      ],
      "text/plain": [
       "   Client_id  Transaction_id                 Date  Products_count  SKU  \\\n",
       "0    2530298          405832  2015-01-20 09:18:22               7    7   \n",
       "1    2348582          405833  2015-01-20 09:30:26               3    3   \n",
       "2    2754973          405834  2015-01-20 09:30:39               2    2   \n",
       "3    2751501          405835  2015-01-20 09:42:47              13    8   \n",
       "4    2334605          405836  2015-01-20 09:43:56               4    4   \n",
       "\n",
       "   Net_value  Gross_value  Return_id  Returned_products_count  \\\n",
       "0      42.76        52.59        NaN                      0.0   \n",
       "1      23.26        28.61    73903.0                      2.0   \n",
       "2      16.99        20.90        NaN                      0.0   \n",
       "3      57.02        70.13        NaN                      0.0   \n",
       "4      24.87        30.59        NaN                      0.0   \n",
       "\n",
       "   Returns_net_value  Net_value_after_ret  Products_count_after_returns  \n",
       "0               0.00                42.76                           7.0  \n",
       "1              11.63                11.63                           1.0  \n",
       "2               0.00                16.99                           2.0  \n",
       "3               0.00                57.02                          13.0  \n",
       "4               0.00                24.87                           4.0  "
      ]
     },
     "execution_count": 40,
     "metadata": {},
     "output_type": "execute_result"
    }
   ],
   "source": [
    "temp.head()"
   ]
  },
  {
   "cell_type": "code",
   "execution_count": 41,
   "metadata": {},
   "outputs": [],
   "source": [
    "temp2 = temp.groupby('Client_id').agg(\n",
    "    transaction_count = ('Transaction_id', 'count'),\n",
    "    first_order = ('Date', 'min'),\n",
    "    last_order = ('Date', 'max'),\n",
    "    products_count = ('Products_count', 'sum'),\n",
    "    net_value = ('Net_value', 'sum'),\n",
    "    products_count_after_returns = ('Products_count_after_returns', 'sum'),\n",
    "    net_value_after_returns = ('Net_value_after_ret', 'sum')\n",
    "   )"
   ]
  },
  {
   "cell_type": "code",
   "execution_count": 42,
   "metadata": {},
   "outputs": [
    {
     "data": {
      "text/html": [
       "<div>\n",
       "<style scoped>\n",
       "    .dataframe tbody tr th:only-of-type {\n",
       "        vertical-align: middle;\n",
       "    }\n",
       "\n",
       "    .dataframe tbody tr th {\n",
       "        vertical-align: top;\n",
       "    }\n",
       "\n",
       "    .dataframe thead th {\n",
       "        text-align: right;\n",
       "    }\n",
       "</style>\n",
       "<table border=\"1\" class=\"dataframe\">\n",
       "  <thead>\n",
       "    <tr style=\"text-align: right;\">\n",
       "      <th></th>\n",
       "      <th>transaction_count</th>\n",
       "      <th>first_order</th>\n",
       "      <th>last_order</th>\n",
       "      <th>products_count</th>\n",
       "      <th>net_value</th>\n",
       "      <th>products_count_after_returns</th>\n",
       "      <th>net_value_after_returns</th>\n",
       "    </tr>\n",
       "    <tr>\n",
       "      <th>Client_id</th>\n",
       "      <th></th>\n",
       "      <th></th>\n",
       "      <th></th>\n",
       "      <th></th>\n",
       "      <th></th>\n",
       "      <th></th>\n",
       "      <th></th>\n",
       "    </tr>\n",
       "  </thead>\n",
       "  <tbody>\n",
       "    <tr>\n",
       "      <th>2236822</th>\n",
       "      <td>1</td>\n",
       "      <td>2017-02-16 16:40:20</td>\n",
       "      <td>2017-02-16 16:40:20</td>\n",
       "      <td>3</td>\n",
       "      <td>34.78</td>\n",
       "      <td>3.0</td>\n",
       "      <td>34.78</td>\n",
       "    </tr>\n",
       "    <tr>\n",
       "      <th>2236823</th>\n",
       "      <td>4</td>\n",
       "      <td>2016-04-27 23:47:24</td>\n",
       "      <td>2018-10-16 04:55:31</td>\n",
       "      <td>10</td>\n",
       "      <td>143.67</td>\n",
       "      <td>10.0</td>\n",
       "      <td>143.67</td>\n",
       "    </tr>\n",
       "    <tr>\n",
       "      <th>2236824</th>\n",
       "      <td>1</td>\n",
       "      <td>2018-08-28 21:25:21</td>\n",
       "      <td>2018-08-28 21:25:21</td>\n",
       "      <td>3</td>\n",
       "      <td>35.11</td>\n",
       "      <td>3.0</td>\n",
       "      <td>35.11</td>\n",
       "    </tr>\n",
       "    <tr>\n",
       "      <th>2236825</th>\n",
       "      <td>2</td>\n",
       "      <td>2017-05-19 12:35:11</td>\n",
       "      <td>2018-01-07 16:40:34</td>\n",
       "      <td>7</td>\n",
       "      <td>52.55</td>\n",
       "      <td>7.0</td>\n",
       "      <td>52.55</td>\n",
       "    </tr>\n",
       "    <tr>\n",
       "      <th>2236826</th>\n",
       "      <td>2</td>\n",
       "      <td>2015-07-13 15:36:58</td>\n",
       "      <td>2016-11-05 02:50:20</td>\n",
       "      <td>9</td>\n",
       "      <td>47.96</td>\n",
       "      <td>9.0</td>\n",
       "      <td>47.96</td>\n",
       "    </tr>\n",
       "  </tbody>\n",
       "</table>\n",
       "</div>"
      ],
      "text/plain": [
       "           transaction_count          first_order           last_order  \\\n",
       "Client_id                                                                \n",
       "2236822                    1  2017-02-16 16:40:20  2017-02-16 16:40:20   \n",
       "2236823                    4  2016-04-27 23:47:24  2018-10-16 04:55:31   \n",
       "2236824                    1  2018-08-28 21:25:21  2018-08-28 21:25:21   \n",
       "2236825                    2  2017-05-19 12:35:11  2018-01-07 16:40:34   \n",
       "2236826                    2  2015-07-13 15:36:58  2016-11-05 02:50:20   \n",
       "\n",
       "           products_count  net_value  products_count_after_returns  \\\n",
       "Client_id                                                            \n",
       "2236822                 3      34.78                           3.0   \n",
       "2236823                10     143.67                          10.0   \n",
       "2236824                 3      35.11                           3.0   \n",
       "2236825                 7      52.55                           7.0   \n",
       "2236826                 9      47.96                           9.0   \n",
       "\n",
       "           net_value_after_returns  \n",
       "Client_id                           \n",
       "2236822                      34.78  \n",
       "2236823                     143.67  \n",
       "2236824                      35.11  \n",
       "2236825                      52.55  \n",
       "2236826                      47.96  "
      ]
     },
     "execution_count": 42,
     "metadata": {},
     "output_type": "execute_result"
    }
   ],
   "source": [
    "temp2.head()"
   ]
  },
  {
   "cell_type": "code",
   "execution_count": 43,
   "metadata": {},
   "outputs": [
    {
     "data": {
      "text/html": [
       "<div>\n",
       "<style scoped>\n",
       "    .dataframe tbody tr th:only-of-type {\n",
       "        vertical-align: middle;\n",
       "    }\n",
       "\n",
       "    .dataframe tbody tr th {\n",
       "        vertical-align: top;\n",
       "    }\n",
       "\n",
       "    .dataframe thead th {\n",
       "        text-align: right;\n",
       "    }\n",
       "</style>\n",
       "<table border=\"1\" class=\"dataframe\">\n",
       "  <thead>\n",
       "    <tr style=\"text-align: right;\">\n",
       "      <th></th>\n",
       "      <th>transaction_count</th>\n",
       "      <th>first_order</th>\n",
       "      <th>last_order</th>\n",
       "      <th>products_count</th>\n",
       "      <th>net_value</th>\n",
       "      <th>products_count_after_returns</th>\n",
       "      <th>net_value_after_returns</th>\n",
       "    </tr>\n",
       "    <tr>\n",
       "      <th>Client_id</th>\n",
       "      <th></th>\n",
       "      <th></th>\n",
       "      <th></th>\n",
       "      <th></th>\n",
       "      <th></th>\n",
       "      <th></th>\n",
       "      <th></th>\n",
       "    </tr>\n",
       "  </thead>\n",
       "  <tbody>\n",
       "    <tr>\n",
       "      <th>2744614</th>\n",
       "      <td>8</td>\n",
       "      <td>2015-03-03 11:30:15</td>\n",
       "      <td>2019-05-26 06:31:47</td>\n",
       "      <td>60</td>\n",
       "      <td>319.79</td>\n",
       "      <td>60.0</td>\n",
       "      <td>319.79</td>\n",
       "    </tr>\n",
       "    <tr>\n",
       "      <th>2746578</th>\n",
       "      <td>7</td>\n",
       "      <td>2015-05-31 01:25:37</td>\n",
       "      <td>2019-11-14 18:49:38</td>\n",
       "      <td>33</td>\n",
       "      <td>309.70</td>\n",
       "      <td>32.0</td>\n",
       "      <td>291.33</td>\n",
       "    </tr>\n",
       "    <tr>\n",
       "      <th>2311550</th>\n",
       "      <td>10</td>\n",
       "      <td>2015-06-14 11:02:15</td>\n",
       "      <td>2019-01-11 13:55:14</td>\n",
       "      <td>49</td>\n",
       "      <td>307.84</td>\n",
       "      <td>39.0</td>\n",
       "      <td>267.57</td>\n",
       "    </tr>\n",
       "    <tr>\n",
       "      <th>2249080</th>\n",
       "      <td>8</td>\n",
       "      <td>2016-01-05 15:51:50</td>\n",
       "      <td>2020-03-22 18:57:16</td>\n",
       "      <td>57</td>\n",
       "      <td>305.02</td>\n",
       "      <td>40.0</td>\n",
       "      <td>192.32</td>\n",
       "    </tr>\n",
       "    <tr>\n",
       "      <th>2668998</th>\n",
       "      <td>8</td>\n",
       "      <td>2016-02-25 21:16:43</td>\n",
       "      <td>2020-04-01 18:20:28</td>\n",
       "      <td>33</td>\n",
       "      <td>297.26</td>\n",
       "      <td>32.0</td>\n",
       "      <td>276.06</td>\n",
       "    </tr>\n",
       "    <tr>\n",
       "      <th>2647872</th>\n",
       "      <td>8</td>\n",
       "      <td>2015-07-30 14:00:44</td>\n",
       "      <td>2018-05-03 20:38:31</td>\n",
       "      <td>34</td>\n",
       "      <td>295.99</td>\n",
       "      <td>32.0</td>\n",
       "      <td>273.46</td>\n",
       "    </tr>\n",
       "    <tr>\n",
       "      <th>2684988</th>\n",
       "      <td>8</td>\n",
       "      <td>2015-05-07 21:23:12</td>\n",
       "      <td>2019-04-28 22:02:56</td>\n",
       "      <td>43</td>\n",
       "      <td>293.47</td>\n",
       "      <td>40.0</td>\n",
       "      <td>276.38</td>\n",
       "    </tr>\n",
       "    <tr>\n",
       "      <th>2403639</th>\n",
       "      <td>8</td>\n",
       "      <td>2015-10-23 17:08:11</td>\n",
       "      <td>2020-01-23 00:42:58</td>\n",
       "      <td>58</td>\n",
       "      <td>292.11</td>\n",
       "      <td>53.0</td>\n",
       "      <td>257.88</td>\n",
       "    </tr>\n",
       "    <tr>\n",
       "      <th>2656167</th>\n",
       "      <td>7</td>\n",
       "      <td>2015-02-24 15:53:45</td>\n",
       "      <td>2018-10-05 06:26:34</td>\n",
       "      <td>41</td>\n",
       "      <td>291.56</td>\n",
       "      <td>37.0</td>\n",
       "      <td>268.30</td>\n",
       "    </tr>\n",
       "    <tr>\n",
       "      <th>2545827</th>\n",
       "      <td>10</td>\n",
       "      <td>2015-04-01 08:58:00</td>\n",
       "      <td>2018-09-08 18:38:05</td>\n",
       "      <td>41</td>\n",
       "      <td>291.47</td>\n",
       "      <td>37.0</td>\n",
       "      <td>279.27</td>\n",
       "    </tr>\n",
       "  </tbody>\n",
       "</table>\n",
       "</div>"
      ],
      "text/plain": [
       "           transaction_count          first_order           last_order  \\\n",
       "Client_id                                                                \n",
       "2744614                    8  2015-03-03 11:30:15  2019-05-26 06:31:47   \n",
       "2746578                    7  2015-05-31 01:25:37  2019-11-14 18:49:38   \n",
       "2311550                   10  2015-06-14 11:02:15  2019-01-11 13:55:14   \n",
       "2249080                    8  2016-01-05 15:51:50  2020-03-22 18:57:16   \n",
       "2668998                    8  2016-02-25 21:16:43  2020-04-01 18:20:28   \n",
       "2647872                    8  2015-07-30 14:00:44  2018-05-03 20:38:31   \n",
       "2684988                    8  2015-05-07 21:23:12  2019-04-28 22:02:56   \n",
       "2403639                    8  2015-10-23 17:08:11  2020-01-23 00:42:58   \n",
       "2656167                    7  2015-02-24 15:53:45  2018-10-05 06:26:34   \n",
       "2545827                   10  2015-04-01 08:58:00  2018-09-08 18:38:05   \n",
       "\n",
       "           products_count  net_value  products_count_after_returns  \\\n",
       "Client_id                                                            \n",
       "2744614                60     319.79                          60.0   \n",
       "2746578                33     309.70                          32.0   \n",
       "2311550                49     307.84                          39.0   \n",
       "2249080                57     305.02                          40.0   \n",
       "2668998                33     297.26                          32.0   \n",
       "2647872                34     295.99                          32.0   \n",
       "2684988                43     293.47                          40.0   \n",
       "2403639                58     292.11                          53.0   \n",
       "2656167                41     291.56                          37.0   \n",
       "2545827                41     291.47                          37.0   \n",
       "\n",
       "           net_value_after_returns  \n",
       "Client_id                           \n",
       "2744614                     319.79  \n",
       "2746578                     291.33  \n",
       "2311550                     267.57  \n",
       "2249080                     192.32  \n",
       "2668998                     276.06  \n",
       "2647872                     273.46  \n",
       "2684988                     276.38  \n",
       "2403639                     257.88  \n",
       "2656167                     268.30  \n",
       "2545827                     279.27  "
      ]
     },
     "execution_count": 43,
     "metadata": {},
     "output_type": "execute_result"
    }
   ],
   "source": [
    "temp3 = temp2.sort_values('net_value', ascending = False)\n",
    "temp3.head(10)"
   ]
  },
  {
   "cell_type": "code",
   "execution_count": null,
   "metadata": {},
   "outputs": [],
   "source": []
  }
 ],
 "metadata": {
  "kernelspec": {
   "display_name": "Python 3",
   "language": "python",
   "name": "python3"
  },
  "language_info": {
   "codemirror_mode": {
    "name": "ipython",
    "version": 3
   },
   "file_extension": ".py",
   "mimetype": "text/x-python",
   "name": "python",
   "nbconvert_exporter": "python",
   "pygments_lexer": "ipython3",
   "version": "3.8.5"
  }
 },
 "nbformat": 4,
 "nbformat_minor": 4
}
